{
  "nbformat": 4,
  "nbformat_minor": 0,
  "metadata": {
    "kernelspec": {
      "display_name": "Python 3",
      "language": "python",
      "name": "python3"
    },
    "language_info": {
      "codemirror_mode": {
        "name": "ipython",
        "version": 3
      },
      "file_extension": ".py",
      "mimetype": "text/x-python",
      "name": "python",
      "nbconvert_exporter": "python",
      "pygments_lexer": "ipython3",
      "version": "3.6.7"
    },
    "pycharm": {
      "stem_cell": {
        "cell_type": "raw",
        "metadata": {
          "collapsed": false
        },
        "source": []
      }
    },
    "colab": {
      "name": "CNN_ModelTesting.ipynb",
      "provenance": [],
      "include_colab_link": true
    }
  },
  "cells": [
    {
      "cell_type": "markdown",
      "metadata": {
        "id": "view-in-github",
        "colab_type": "text"
      },
      "source": [
        "<a href=\"https://colab.research.google.com/github/alviskagan/CNN-MNIST/blob/master/CNN_ModelTesting.ipynb\" target=\"_parent\"><img src=\"https://colab.research.google.com/assets/colab-badge.svg\" alt=\"Open In Colab\"/></a>"
      ]
    },
    {
      "cell_type": "code",
      "metadata": {
        "pycharm": {
          "is_executing": false
        },
        "id": "AfUVWE6btujA",
        "colab_type": "code",
        "outputId": "5946390c-2feb-4709-ea5d-7aaa5f2086c7",
        "colab": {}
      },
      "source": [
        "import keras\n",
        "from keras.models import load_model\n",
        "from keras.utils import plot_model\n",
        "from keras.datasets import fashion_mnist\n",
        "from keras.utils.np_utils import to_categorical\n",
        "\n",
        "import numpy as np\n",
        "import pandas as pd\n",
        "from matplotlib import pyplot as plt\n",
        "\n",
        "image_shape = (28, 28, 1)"
      ],
      "execution_count": 0,
      "outputs": [
        {
          "output_type": "stream",
          "text": [
            "Using TensorFlow backend.\n"
          ],
          "name": "stderr"
        }
      ]
    },
    {
      "cell_type": "markdown",
      "metadata": {
        "id": "MIrY5gPLtw8I",
        "colab_type": "text"
      },
      "source": [
        "# Evaluating\n",
        "\n",
        "**Memuat model**"
      ]
    },
    {
      "cell_type": "code",
      "metadata": {
        "pycharm": {
          "is_executing": false
        },
        "id": "adWutFkBtujH",
        "colab_type": "code",
        "colab": {}
      },
      "source": [
        "model = load_model('model-alvis-v2.h5')"
      ],
      "execution_count": 0,
      "outputs": []
    },
    {
      "cell_type": "markdown",
      "metadata": {
        "id": "EnUJIN-4t5gT",
        "colab_type": "text"
      },
      "source": [
        "**Melakukan export struktur model kedalam bentuk image**"
      ]
    },
    {
      "cell_type": "code",
      "metadata": {
        "pycharm": {
          "is_executing": false
        },
        "id": "R1DfAZFxtujL",
        "colab_type": "code",
        "colab": {}
      },
      "source": [
        "# Plot Model Structure, if needed\n",
        "plot_model(model, to_file='testingg.png')"
      ],
      "execution_count": 0,
      "outputs": []
    },
    {
      "cell_type": "markdown",
      "metadata": {
        "id": "t2U0mvd8uFmL",
        "colab_type": "text"
      },
      "source": [
        "**Proses testing model**"
      ]
    },
    {
      "cell_type": "code",
      "metadata": {
        "pycharm": {
          "is_executing": false
        },
        "id": "5ILfSTfxtujP",
        "colab_type": "code",
        "colab": {}
      },
      "source": [
        "#### TESTING MODEL ###\n",
        "\n",
        "# Load dataset\n",
        "(train_x, train_y), (test_x, test_y) = fashion_mnist.load_data()"
      ],
      "execution_count": 0,
      "outputs": []
    },
    {
      "cell_type": "code",
      "metadata": {
        "pycharm": {
          "is_executing": false
        },
        "id": "5j4-ZnK6tujS",
        "colab_type": "code",
        "outputId": "45f27cc2-5324-4ca1-e086-abf22955857f",
        "colab": {}
      },
      "source": [
        "test_x = np.reshape(test_x, (len(test_x), 28, 28, 1))\n",
        "# test_y = to_categorical(test_y, 10)\n",
        "test_x.shape, test_y.shape"
      ],
      "execution_count": 0,
      "outputs": [
        {
          "output_type": "execute_result",
          "data": {
            "text/plain": [
              "((10000, 28, 28, 1), (10000,))"
            ]
          },
          "metadata": {
            "tags": []
          },
          "execution_count": 4
        }
      ]
    },
    {
      "cell_type": "code",
      "metadata": {
        "pycharm": {
          "is_executing": false
        },
        "id": "dVACEqh0tujX",
        "colab_type": "code",
        "colab": {}
      },
      "source": [
        "# Convert to single dimensional array\n",
        "test_x_res = np.reshape(test_x, (len(test_x), -1))\n",
        "# create dataframe for image\n",
        "image_df = pd.DataFrame(test_x_res, dtype=float)\n",
        "# create dataframe for label\n",
        "label_df = pd.DataFrame({'label' : test_y})  \n",
        "# combine dataset\n",
        "dataset = pd.concat([image_df, label_df], axis=1)\n"
      ],
      "execution_count": 0,
      "outputs": []
    },
    {
      "cell_type": "code",
      "metadata": {
        "pycharm": {
          "is_executing": false
        },
        "id": "KktGpEfitujb",
        "colab_type": "code",
        "outputId": "7a88345d-854c-4221-b6d6-869200d7af8d",
        "colab": {
          "base_uri": "https://localhost:8080/",
          "height": 180
        }
      },
      "source": [
        "gk = dataset.groupby('label')\n",
        "# help(gk)"
      ],
      "execution_count": 0,
      "outputs": [
        {
          "output_type": "error",
          "ename": "NameError",
          "evalue": "ignored",
          "traceback": [
            "\u001b[0;31m---------------------------------------------------------------------------\u001b[0m",
            "\u001b[0;31mNameError\u001b[0m                                 Traceback (most recent call last)",
            "\u001b[0;32m<ipython-input-1-70befba1d6a4>\u001b[0m in \u001b[0;36m<module>\u001b[0;34m()\u001b[0m\n\u001b[0;32m----> 1\u001b[0;31m \u001b[0mgk\u001b[0m \u001b[0;34m=\u001b[0m \u001b[0mdataset\u001b[0m\u001b[0;34m.\u001b[0m\u001b[0mgroupby\u001b[0m\u001b[0;34m(\u001b[0m\u001b[0;34m'label'\u001b[0m\u001b[0;34m)\u001b[0m\u001b[0;34m\u001b[0m\u001b[0;34m\u001b[0m\u001b[0m\n\u001b[0m\u001b[1;32m      2\u001b[0m \u001b[0;31m# help(gk)\u001b[0m\u001b[0;34m\u001b[0m\u001b[0;34m\u001b[0m\u001b[0;34m\u001b[0m\u001b[0m\n",
            "\u001b[0;31mNameError\u001b[0m: name 'dataset' is not defined"
          ]
        }
      ]
    },
    {
      "cell_type": "markdown",
      "metadata": {
        "id": "3jlp3uXOuTuz",
        "colab_type": "text"
      },
      "source": [
        "**Test Case 1: Proses testing seluruh data berdasarkan label**"
      ]
    },
    {
      "cell_type": "code",
      "metadata": {
        "pycharm": {
          "is_executing": false
        },
        "id": "SSuBuBbWtujf",
        "colab_type": "code",
        "outputId": "8422c9b8-80dc-46cd-bb3a-b82dd0a3c161",
        "colab": {}
      },
      "source": [
        "# testing out the grouping\n",
        "data = gk.get_group(1)\n",
        "img = np.array(data.iloc[:, 0:784])\n",
        "# reshape the image\n",
        "img_res = np.reshape(img, (len(img), 28, 28, 1)).astype(float)\n",
        "label = np.array(data.iloc[:, 784])\n",
        "label_enc = to_categorical(label, 10)\n",
        "evaluator = model.evaluate(img_res, label_enc)\n",
        "evaluator"
      ],
      "execution_count": 0,
      "outputs": [
        {
          "output_type": "stream",
          "text": [
            "1000/1000 [==============================] - 0s 410us/step\n"
          ],
          "name": "stdout"
        },
        {
          "output_type": "execute_result",
          "data": {
            "text/plain": [
              "[0.1048598752460067, 0.986]"
            ]
          },
          "metadata": {
            "tags": []
          },
          "execution_count": 9
        }
      ]
    },
    {
      "cell_type": "code",
      "metadata": {
        "pycharm": {
          "is_executing": false,
          "name": "#%%\n"
        },
        "id": "OhF3q4fFtujj",
        "colab_type": "code",
        "outputId": "c8660cb2-cb87-4334-ea9f-aaad20b12faf",
        "colab": {}
      },
      "source": [
        "# Analyze model based on the test case\n",
        "# Test Case 1: Per Class Strength Testing\n",
        "# for key, val in gk.groups.items():\n",
        "print(model.metrics_names)\n",
        "for i in list(range(10)):\n",
        "    # get image for the current class\n",
        "    data = gk.get_group(i)\n",
        "    img = np.array(data.iloc[:, 0:784])\n",
        "    # reshape the image\n",
        "    img_res = np.reshape(img, (len(img), 28, 28, 1)).astype(float)\n",
        "    label = np.array(data.iloc[:, 784])\n",
        "    label_enc = to_categorical(label, 10)\n",
        "    evaluate_result = model.evaluate(img_res, label_enc, verbose=0)\n",
        "    print(str(evaluate_result))"
      ],
      "execution_count": 0,
      "outputs": [
        {
          "output_type": "stream",
          "text": [
            "['loss', 'acc']\n",
            "[0.49945753049850466, 0.883]\n",
            "[0.1048598752460067, 0.986]\n",
            "[0.5285988794565201, 0.887]\n",
            "[0.35603758485009895, 0.929]\n",
            "[0.4793476215004921, 0.887]\n",
            "[0.07487710881076054, 0.987]\n",
            "[1.1016927967071533, 0.732]\n",
            "[0.12150937442854047, 0.974]\n",
            "[0.06156469300000026, 0.989]\n",
            "[0.17310670012276386, 0.968]\n"
          ],
          "name": "stdout"
        }
      ]
    },
    {
      "cell_type": "markdown",
      "metadata": {
        "id": "AggpH57zuhCY",
        "colab_type": "text"
      },
      "source": [
        "**Test Case 2: Proses testing untuk mengukur seluruh akurasi total dari seluruh data testing**"
      ]
    },
    {
      "cell_type": "code",
      "metadata": {
        "pycharm": {
          "is_executing": false,
          "name": "#%%\n"
        },
        "id": "YsL7roYMtujp",
        "colab_type": "code",
        "outputId": "1e2d2884-0bcc-4a3c-f49d-33746c4cfd09",
        "colab": {}
      },
      "source": [
        "# Test Case 2: All Class Strength Testing\n",
        "img_res = test_x\n",
        "label_enc = to_categorical(test_y, 10)\n",
        "model.evaluate(img_res, label_enc)"
      ],
      "execution_count": 0,
      "outputs": [
        {
          "output_type": "stream",
          "text": [
            "10000/10000 [==============================] - 5s 475us/step\n"
          ],
          "name": "stdout"
        },
        {
          "output_type": "execute_result",
          "data": {
            "text/plain": [
              "[0.3501052012367174, 0.9222]"
            ]
          },
          "metadata": {
            "tags": []
          },
          "execution_count": 194
        }
      ]
    },
    {
      "cell_type": "code",
      "metadata": {
        "pycharm": {
          "name": "#%%\n"
        },
        "id": "Z3M7-4r0tuju",
        "colab_type": "code",
        "outputId": "c354fd9b-033b-4ef3-981b-10967918115b",
        "colab": {}
      },
      "source": [
        "model.predict(np.expand_dims(img_res[0], axis=0))\n"
      ],
      "execution_count": 0,
      "outputs": [
        {
          "output_type": "execute_result",
          "data": {
            "text/plain": [
              "array([[3.2445685e-31, 1.0000000e+00, 1.4420551e-31, 3.4782547e-26,\n",
              "        1.6233707e-30, 2.0016675e-31, 1.8205240e-31, 1.5222990e-33,\n",
              "        0.0000000e+00, 5.3107575e-31]], dtype=float32)"
            ]
          },
          "metadata": {
            "tags": []
          },
          "execution_count": 17
        }
      ]
    },
    {
      "cell_type": "code",
      "metadata": {
        "id": "AXdcCcE2tujy",
        "colab_type": "code",
        "outputId": "435074c9-7653-49bd-ff6f-64b3deeb5b26",
        "colab": {}
      },
      "source": [
        "label_enc[0]"
      ],
      "execution_count": 0,
      "outputs": [
        {
          "output_type": "execute_result",
          "data": {
            "text/plain": [
              "array([0., 1., 0., 0., 0., 0., 0., 0., 0., 0.], dtype=float32)"
            ]
          },
          "metadata": {
            "tags": []
          },
          "execution_count": 15
        }
      ]
    }
  ]
}