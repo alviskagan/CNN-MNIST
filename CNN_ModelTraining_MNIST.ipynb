{
  "nbformat": 4,
  "nbformat_minor": 0,
  "metadata": {
    "colab": {
      "name": "CNN_ModelTraining_MNIST.ipynb",
      "provenance": [],
      "toc_visible": true,
      "include_colab_link": true
    },
    "kernelspec": {
      "name": "python3",
      "display_name": "Python 3"
    },
    "accelerator": "GPU"
  },
  "cells": [
    {
      "cell_type": "markdown",
      "metadata": {
        "id": "view-in-github",
        "colab_type": "text"
      },
      "source": [
        "<a href=\"https://colab.research.google.com/github/alviskagan/CNN-MNIST/blob/master/CNN_ModelTraining_MNIST.ipynb\" target=\"_parent\"><img src=\"https://colab.research.google.com/assets/colab-badge.svg\" alt=\"Open In Colab\"/></a>"
      ]
    },
    {
      "cell_type": "code",
      "metadata": {
        "id": "86kLnwcJRiFq",
        "colab_type": "code",
        "colab": {}
      },
      "source": [
        "# import essentials\n",
        "import numpy as np\n",
        "import pandas as pd\n",
        "import matplotlib.image as mpim\n",
        "import matplotlib.pyplot as plt\n",
        "\n",
        "%matplotlib inline\n",
        "\n",
        "from keras import backend as K\n",
        "K.set_image_dim_ordering('th')\n",
        "from keras.utils import np_utils\n",
        "from sklearn.model_selection import train_test_split\n",
        "from keras.models import Sequential\n",
        "from keras.layers import Dense, Dropout, Flatten, Reshape, InputLayer\n",
        "from keras.layers.normalization import BatchNormalization\n",
        "from keras.layers.convolutional import Conv2D, MaxPooling2D\n",
        "from keras.optimizers import Adam"
      ],
      "execution_count": 0,
      "outputs": []
    },
    {
      "cell_type": "markdown",
      "metadata": {
        "id": "NAMc13TUWZIs",
        "colab_type": "text"
      },
      "source": [
        "# Preprocessing"
      ]
    },
    {
      "cell_type": "markdown",
      "metadata": {
        "id": "0HpMOLoPXSrz",
        "colab_type": "text"
      },
      "source": [
        "**Eksplorasi Data**\n",
        "\n",
        "Memuat datatest fashion MNIST."
      ]
    },
    {
      "cell_type": "code",
      "metadata": {
        "id": "w9Lxsb1uCtFB",
        "colab_type": "code",
        "outputId": "3be25ff7-6597-4811-8e49-9cc89ac83bb2",
        "colab": {
          "base_uri": "https://localhost:8080/",
          "height": 54
        }
      },
      "source": [
        "from google.colab import drive\n",
        "drive.mount('/content/drive')"
      ],
      "execution_count": 0,
      "outputs": [
        {
          "output_type": "stream",
          "text": [
            "Drive already mounted at /content/drive; to attempt to forcibly remount, call drive.mount(\"/content/drive\", force_remount=True).\n"
          ],
          "name": "stdout"
        }
      ]
    },
    {
      "cell_type": "code",
      "metadata": {
        "id": "3yYRNxKTShRg",
        "colab_type": "code",
        "colab": {}
      },
      "source": [
        "# (train_X, train_Y),(test_X, test_Y) = fashion_mnist.load_data()\n",
        "train_data = pd.read_csv('/content/drive/My Drive/Digitalent 2019/Project Akhir/fashion-mnist_train (1).csv')\n",
        "test_data = pd.read_csv('/content/drive/My Drive/Digitalent 2019/Project Akhir/fashion-mnist_test (1).csv')"
      ],
      "execution_count": 0,
      "outputs": []
    },
    {
      "cell_type": "code",
      "metadata": {
        "id": "MbBh_-VWS8YO",
        "colab_type": "code",
        "outputId": "e13631fc-c824-4661-de19-47b686d96dbe",
        "colab": {
          "base_uri": "https://localhost:8080/",
          "height": 34
        }
      },
      "source": [
        "# print(\"Training set X (images) shape :{shape}\".format(shape=train_X.shape))\n",
        "# print(\"Test set X (images) shape :{shape}\".format(shape=test_X.shape) )\n",
        "# print(\"Training set Y (images) shape :{shape}\".format(shape=train_Y.shape))\n",
        "# print(\"Test set Y (images) shape :{shape}\".format(shape=test_Y.shape) )\n",
        "train_data.shape, test_data.shape\n"
      ],
      "execution_count": 0,
      "outputs": [
        {
          "output_type": "execute_result",
          "data": {
            "text/plain": [
              "((60000, 785), (10000, 785))"
            ]
          },
          "metadata": {
            "tags": []
          },
          "execution_count": 8
        }
      ]
    },
    {
      "cell_type": "code",
      "metadata": {
        "id": "SS-rGV4nTEJE",
        "colab_type": "code",
        "colab": {}
      },
      "source": [
        "# Create dictionary of target classes\n",
        "objects = {\n",
        " 0: 'T-shirt/top',\n",
        " 1: 'Trouser',\n",
        " 2: 'Pullover',\n",
        " 3: 'Dress',\n",
        " 4: 'Coat',\n",
        " 5: 'Sandal',\n",
        " 6: 'Shirt',\n",
        " 7: 'Sneake',\n",
        " 8: 'Bag',\n",
        " 9: 'Ankle Boot',\n",
        "}"
      ],
      "execution_count": 0,
      "outputs": []
    },
    {
      "cell_type": "markdown",
      "metadata": {
        "id": "PDraU_KLWkQZ",
        "colab_type": "text"
      },
      "source": [
        "**Melihat Data**\n",
        "\n",
        "Menampilkan sample dari isi dataset.\n"
      ]
    },
    {
      "cell_type": "code",
      "metadata": {
        "id": "CBMZq1t2TJp_",
        "colab_type": "code",
        "outputId": "7bc588fc-7e53-4fb3-bc5b-af8411a3140d",
        "colab": {
          "base_uri": "https://localhost:8080/",
          "height": 255
        }
      },
      "source": [
        "# let's have a quick look of those images\n",
        "f, axes = plt.subplots(2, 4)\n",
        "for row in axes:\n",
        "    for axe in row:\n",
        "        index = np.random.randint(10000)\n",
        "        img = np.array(train_data.iloc[index, 1:]).reshape((28, 28))\n",
        "        obj = train_data.iloc[index, 0]\n",
        "        axe.imshow(img, cmap='gray')\n",
        "        axe.set_title(objects[obj])"
      ],
      "execution_count": 0,
      "outputs": [
        {
          "output_type": "display_data",
          "data": {
            "image/png": "[encoded data removed]",
            "text/plain": [
              "<Figure size 432x288 with 8 Axes>"
            ]
          },
          "metadata": {
            "tags": []
          }
        }
      ]
    },
    {
      "cell_type": "code",
      "metadata": {
        "id": "fWHvvj9Ehn3F",
        "colab_type": "code",
        "colab": {}
      },
      "source": [
        "# separate the training data into images and labels\n",
        "images = train_data.iloc[:, 1:]\n",
        "labels = train_data.iloc[:, 0]"
      ],
      "execution_count": 0,
      "outputs": []
    },
    {
      "cell_type": "code",
      "metadata": {
        "id": "y1TZ1Qkuht-l",
        "colab_type": "code",
        "outputId": "9e951e49-928f-4658-aaae-87e5d44dc9e9",
        "colab": {
          "base_uri": "https://localhost:8080/",
          "height": 105
        }
      },
      "source": [
        "# reshape the images to fit CNNs\n",
        "labels = labels.as_matrix()\n",
        "images = images.as_matrix().reshape(images.shape[0], 1, 28, 28)"
      ],
      "execution_count": 0,
      "outputs": [
        {
          "output_type": "stream",
          "text": [
            "/usr/local/lib/python3.6/dist-packages/ipykernel_launcher.py:1: FutureWarning: Method .as_matrix will be removed in a future version. Use .values instead.\n",
            "  \"\"\"Entry point for launching an IPython kernel.\n",
            "/usr/local/lib/python3.6/dist-packages/ipykernel_launcher.py:2: FutureWarning: Method .as_matrix will be removed in a future version. Use .values instead.\n",
            "  \n"
          ],
          "name": "stderr"
        }
      ]
    },
    {
      "cell_type": "code",
      "metadata": {
        "id": "aHAEkkL3iLQr",
        "colab_type": "code",
        "colab": {}
      },
      "source": [
        "# one-hot encoding for labels\n",
        "labels = np_utils.to_categorical(labels)"
      ],
      "execution_count": 0,
      "outputs": []
    },
    {
      "cell_type": "code",
      "metadata": {
        "id": "44nz5BSWTegy",
        "colab_type": "code",
        "colab": {}
      },
      "source": [
        "# divide data into training and validation set\n",
        "train_features, vali_features, train_labels, vali_labels = train_test_split(images, labels, \n",
        "                                                                           test_size=0.15, random_state=200)"
      ],
      "execution_count": 0,
      "outputs": []
    },
    {
      "cell_type": "code",
      "metadata": {
        "id": "_Qp7JMeWcE95",
        "colab_type": "code",
        "outputId": "8677d060-7789-4fa0-99d4-54a2941460fd",
        "colab": {
          "base_uri": "https://localhost:8080/",
          "height": 85
        }
      },
      "source": [
        "# check data shapes\n",
        "print('train_features shape: ', train_features.shape)\n",
        "print('vali_features shape: ', vali_features.shape)\n",
        "print('train_labels shape: ', train_labels.shape)\n",
        "print('vali_labels shape: ', vali_labels.shape)"
      ],
      "execution_count": 0,
      "outputs": [
        {
          "output_type": "stream",
          "text": [
            "train_features shape:  (51000, 1, 28, 28)\n",
            "vali_features shape:  (9000, 1, 28, 28)\n",
            "train_labels shape:  (51000, 10)\n",
            "vali_labels shape:  (9000, 10)\n"
          ],
          "name": "stdout"
        }
      ]
    },
    {
      "cell_type": "code",
      "metadata": {
        "id": "s_W9LHVuX4fC",
        "colab_type": "code",
        "outputId": "43cd0863-734b-4ed6-ceb6-6a457c07e224",
        "colab": {
          "base_uri": "https://localhost:8080/",
          "height": 343
        }
      },
      "source": [
        "# hyperparameters\n",
        "epochs = 30\n",
        "batch_size = 256\n",
        "\n",
        "# build model\n",
        "n_classes = 10\n",
        "model = Sequential()\n",
        "\n",
        "\n",
        "# input layer\n",
        "model.add(InputLayer(input_shape=(1, 28, 28)))\n",
        "\n",
        "# normalization\n",
        "model.add(BatchNormalization())\n",
        "\n",
        "model.add(Conv2D(64, (5, 5), activation='relu',\n",
        "          bias_initializer='RandomNormal', kernel_initializer='random_uniform'))\n",
        "\n",
        "\n",
        "model.add(MaxPooling2D(pool_size=(2, 2)))\n",
        "\n",
        "model.add(Conv2D(512, (5, 5), activation='relu'))\n",
        "\n",
        "model.add(MaxPooling2D(pool_size=(2, 2)))\n",
        "\n",
        "model.add(Flatten())\n",
        "\n",
        "model.add(Dense(128, activation='relu'))\n",
        "\n",
        "model.add(Dropout(0.35))\n",
        "\n",
        "model.add(Dense(64, activation='relu'))\n",
        "\n",
        "model.add(Dropout(0.35))\n",
        "# model.add(Dense(64, activation='relu'))\n",
        "# model.add(Dropout(0.5))\n",
        "model.add(Dense(n_classes, activation='softmax'))"
      ],
      "execution_count": 0,
      "outputs": [
        {
          "output_type": "stream",
          "text": [
            "WARNING: Logging before flag parsing goes to stderr.\n",
            "W0817 08:14:50.617940 140052114003840 deprecation_wrapper.py:119] From /usr/local/lib/python3.6/dist-packages/keras/backend/tensorflow_backend.py:74: The name tf.get_default_graph is deprecated. Please use tf.compat.v1.get_default_graph instead.\n",
            "\n",
            "W0817 08:14:50.657238 140052114003840 deprecation_wrapper.py:119] From /usr/local/lib/python3.6/dist-packages/keras/backend/tensorflow_backend.py:517: The name tf.placeholder is deprecated. Please use tf.compat.v1.placeholder instead.\n",
            "\n",
            "W0817 08:14:50.677584 140052114003840 deprecation_wrapper.py:119] From /usr/local/lib/python3.6/dist-packages/keras/backend/tensorflow_backend.py:174: The name tf.get_default_session is deprecated. Please use tf.compat.v1.get_default_session instead.\n",
            "\n",
            "W0817 08:14:50.678407 140052114003840 deprecation_wrapper.py:119] From /usr/local/lib/python3.6/dist-packages/keras/backend/tensorflow_backend.py:181: The name tf.ConfigProto is deprecated. Please use tf.compat.v1.ConfigProto instead.\n",
            "\n",
            "W0817 08:14:50.679181 140052114003840 deprecation_wrapper.py:119] From /usr/local/lib/python3.6/dist-packages/keras/backend/tensorflow_backend.py:186: The name tf.Session is deprecated. Please use tf.compat.v1.Session instead.\n",
            "\n",
            "W0817 08:14:53.203938 140052114003840 deprecation_wrapper.py:119] From /usr/local/lib/python3.6/dist-packages/keras/backend/tensorflow_backend.py:1834: The name tf.nn.fused_batch_norm is deprecated. Please use tf.compat.v1.nn.fused_batch_norm instead.\n",
            "\n",
            "W0817 08:14:53.292468 140052114003840 deprecation_wrapper.py:119] From /usr/local/lib/python3.6/dist-packages/keras/backend/tensorflow_backend.py:3976: The name tf.nn.max_pool is deprecated. Please use tf.nn.max_pool2d instead.\n",
            "\n",
            "W0817 08:14:53.331661 140052114003840 deprecation.py:506] From /usr/local/lib/python3.6/dist-packages/keras/backend/tensorflow_backend.py:3445: calling dropout (from tensorflow.python.ops.nn_ops) with keep_prob is deprecated and will be removed in a future version.\n",
            "Instructions for updating:\n",
            "Please use `rate` instead of `keep_prob`. Rate should be set to `rate = 1 - keep_prob`.\n"
          ],
          "name": "stderr"
        }
      ]
    },
    {
      "cell_type": "code",
      "metadata": {
        "id": "iGkeVFdgX47w",
        "colab_type": "code",
        "outputId": "6081cfe9-0efb-4cdf-e55d-63958624e5ee",
        "colab": {
          "base_uri": "https://localhost:8080/",
          "height": 71
        }
      },
      "source": [
        "opt = Adam(decay=0.001)\n",
        "# compile the model\n",
        "model.compile(optimizer=opt,\n",
        "              loss='categorical_crossentropy',\n",
        "              metrics=['accuracy'])"
      ],
      "execution_count": 0,
      "outputs": [
        {
          "output_type": "stream",
          "text": [
            "W0817 08:15:25.005641 140052114003840 deprecation_wrapper.py:119] From /usr/local/lib/python3.6/dist-packages/keras/optimizers.py:790: The name tf.train.Optimizer is deprecated. Please use tf.compat.v1.train.Optimizer instead.\n",
            "\n"
          ],
          "name": "stderr"
        }
      ]
    },
    {
      "cell_type": "code",
      "metadata": {
        "id": "sAU9oEmzaWME",
        "colab_type": "code",
        "outputId": "5b456894-4fac-4494-f135-85e9e5fa6133",
        "colab": {
          "base_uri": "https://localhost:8080/",
          "height": 510
        }
      },
      "source": [
        "model.summary()"
      ],
      "execution_count": 0,
      "outputs": [
        {
          "output_type": "stream",
          "text": [
            "_________________________________________________________________\n",
            "Layer (type)                 Output Shape              Param #   \n",
            "=================================================================\n",
            "batch_normalization_1 (Batch (None, 1, 28, 28)         112       \n",
            "_________________________________________________________________\n",
            "conv2d_1 (Conv2D)            (None, 64, 24, 24)        1664      \n",
            "_________________________________________________________________\n",
            "max_pooling2d_1 (MaxPooling2 (None, 64, 12, 12)        0         \n",
            "_________________________________________________________________\n",
            "conv2d_2 (Conv2D)            (None, 512, 8, 8)         819712    \n",
            "_________________________________________________________________\n",
            "max_pooling2d_2 (MaxPooling2 (None, 512, 4, 4)         0         \n",
            "_________________________________________________________________\n",
            "flatten_1 (Flatten)          (None, 8192)              0         \n",
            "_________________________________________________________________\n",
            "dense_1 (Dense)              (None, 128)               1048704   \n",
            "_________________________________________________________________\n",
            "dropout_1 (Dropout)          (None, 128)               0         \n",
            "_________________________________________________________________\n",
            "dense_2 (Dense)              (None, 64)                8256      \n",
            "_________________________________________________________________\n",
            "dropout_2 (Dropout)          (None, 64)                0         \n",
            "_________________________________________________________________\n",
            "dense_3 (Dense)              (None, 10)                650       \n",
            "=================================================================\n",
            "Total params: 1,879,098\n",
            "Trainable params: 1,879,042\n",
            "Non-trainable params: 56\n",
            "_________________________________________________________________\n"
          ],
          "name": "stdout"
        }
      ]
    },
    {
      "cell_type": "code",
      "metadata": {
        "id": "7mYo3vOPYcJw",
        "colab_type": "code",
        "outputId": "f87ae694-44b5-423b-884e-3de0a104fb31",
        "colab": {
          "base_uri": "https://localhost:8080/",
          "height": 1000
        }
      },
      "source": [
        "# training\n",
        "import time\n",
        "start_time = time.time()\n",
        "\n",
        "training = model.fit(train_features, train_labels,\n",
        "                     validation_data=(vali_features, vali_labels),\n",
        "                     epochs=epochs,\n",
        "                     batch_size=batch_size, \n",
        "                     verbose=1)\n",
        "training_time = time.time() - start_time"
      ],
      "execution_count": 0,
      "outputs": [
        {
          "output_type": "stream",
          "text": [
            "W0817 08:15:28.083594 140052114003840 deprecation.py:323] From /usr/local/lib/python3.6/dist-packages/tensorflow/python/ops/math_grad.py:1250: add_dispatch_support.<locals>.wrapper (from tensorflow.python.ops.array_ops) is deprecated and will be removed in a future version.\n",
            "Instructions for updating:\n",
            "Use tf.where in 2.0, which has the same broadcast rule as np.where\n"
          ],
          "name": "stderr"
        },
        {
          "output_type": "stream",
          "text": [
            "Train on 51000 samples, validate on 9000 samples\n",
            "Epoch 1/30\n",
            "51000/51000 [==============================] - 9s 183us/step - loss: 0.7708 - acc: 0.7251 - val_loss: 0.3977 - val_acc: 0.8523\n",
            "Epoch 2/30\n",
            "51000/51000 [==============================] - 5s 93us/step - loss: 0.4507 - acc: 0.8460 - val_loss: 0.3249 - val_acc: 0.8848\n",
            "Epoch 3/30\n",
            "51000/51000 [==============================] - 5s 93us/step - loss: 0.3648 - acc: 0.8753 - val_loss: 0.2853 - val_acc: 0.8953\n",
            "Epoch 4/30\n",
            "51000/51000 [==============================] - 5s 93us/step - loss: 0.3196 - acc: 0.8907 - val_loss: 0.2596 - val_acc: 0.9079\n",
            "Epoch 5/30\n",
            "51000/51000 [==============================] - 5s 93us/step - loss: 0.2846 - acc: 0.9026 - val_loss: 0.2530 - val_acc: 0.9082\n",
            "Epoch 6/30\n",
            "51000/51000 [==============================] - 5s 93us/step - loss: 0.2640 - acc: 0.9098 - val_loss: 0.2394 - val_acc: 0.9158\n",
            "Epoch 7/30\n",
            "51000/51000 [==============================] - 5s 94us/step - loss: 0.2419 - acc: 0.9174 - val_loss: 0.2272 - val_acc: 0.9188\n",
            "Epoch 8/30\n",
            "51000/51000 [==============================] - 5s 94us/step - loss: 0.2236 - acc: 0.9228 - val_loss: 0.2275 - val_acc: 0.9202\n",
            "Epoch 9/30\n",
            "51000/51000 [==============================] - 5s 94us/step - loss: 0.2026 - acc: 0.9299 - val_loss: 0.2214 - val_acc: 0.9234\n",
            "Epoch 10/30\n",
            "51000/51000 [==============================] - 5s 94us/step - loss: 0.1882 - acc: 0.9352 - val_loss: 0.2255 - val_acc: 0.9223\n",
            "Epoch 11/30\n",
            "51000/51000 [==============================] - 5s 94us/step - loss: 0.1741 - acc: 0.9395 - val_loss: 0.2231 - val_acc: 0.9272\n",
            "Epoch 12/30\n",
            "51000/51000 [==============================] - 5s 94us/step - loss: 0.1580 - acc: 0.9449 - val_loss: 0.2143 - val_acc: 0.9291\n",
            "Epoch 13/30\n",
            "51000/51000 [==============================] - 5s 94us/step - loss: 0.1502 - acc: 0.9481 - val_loss: 0.2224 - val_acc: 0.9269\n",
            "Epoch 14/30\n",
            "51000/51000 [==============================] - 5s 94us/step - loss: 0.1358 - acc: 0.9521 - val_loss: 0.2153 - val_acc: 0.9304\n",
            "Epoch 15/30\n",
            "51000/51000 [==============================] - 5s 94us/step - loss: 0.1254 - acc: 0.9557 - val_loss: 0.2237 - val_acc: 0.9287\n",
            "Epoch 16/30\n",
            "51000/51000 [==============================] - 5s 94us/step - loss: 0.1184 - acc: 0.9589 - val_loss: 0.2452 - val_acc: 0.9228\n",
            "Epoch 17/30\n",
            "51000/51000 [==============================] - 5s 94us/step - loss: 0.1124 - acc: 0.9605 - val_loss: 0.2333 - val_acc: 0.9257\n",
            "Epoch 18/30\n",
            "51000/51000 [==============================] - 5s 94us/step - loss: 0.1015 - acc: 0.9643 - val_loss: 0.2314 - val_acc: 0.9312\n",
            "Epoch 19/30\n",
            "51000/51000 [==============================] - 5s 95us/step - loss: 0.0940 - acc: 0.9670 - val_loss: 0.2269 - val_acc: 0.9327\n",
            "Epoch 20/30\n",
            "51000/51000 [==============================] - 5s 95us/step - loss: 0.0867 - acc: 0.9702 - val_loss: 0.2501 - val_acc: 0.9303\n",
            "Epoch 21/30\n",
            "51000/51000 [==============================] - 5s 95us/step - loss: 0.0835 - acc: 0.9703 - val_loss: 0.2416 - val_acc: 0.9310\n",
            "Epoch 22/30\n",
            "51000/51000 [==============================] - 5s 95us/step - loss: 0.0771 - acc: 0.9724 - val_loss: 0.2502 - val_acc: 0.9318\n",
            "Epoch 23/30\n",
            "51000/51000 [==============================] - 5s 95us/step - loss: 0.0702 - acc: 0.9761 - val_loss: 0.2657 - val_acc: 0.9300\n",
            "Epoch 24/30\n",
            "51000/51000 [==============================] - 5s 95us/step - loss: 0.0667 - acc: 0.9772 - val_loss: 0.2655 - val_acc: 0.9320\n",
            "Epoch 25/30\n",
            "51000/51000 [==============================] - 5s 95us/step - loss: 0.0646 - acc: 0.9779 - val_loss: 0.2651 - val_acc: 0.9320\n",
            "Epoch 26/30\n",
            "51000/51000 [==============================] - 5s 95us/step - loss: 0.0593 - acc: 0.9796 - val_loss: 0.2787 - val_acc: 0.9327\n",
            "Epoch 27/30\n",
            "51000/51000 [==============================] - 5s 95us/step - loss: 0.0586 - acc: 0.9802 - val_loss: 0.2692 - val_acc: 0.9329\n",
            "Epoch 28/30\n",
            "51000/51000 [==============================] - 5s 95us/step - loss: 0.0537 - acc: 0.9817 - val_loss: 0.2764 - val_acc: 0.9320\n",
            "Epoch 29/30\n",
            "51000/51000 [==============================] - 5s 95us/step - loss: 0.0466 - acc: 0.9843 - val_loss: 0.2848 - val_acc: 0.9326\n",
            "Epoch 30/30\n",
            "51000/51000 [==============================] - 5s 96us/step - loss: 0.0462 - acc: 0.9846 - val_loss: 0.2937 - val_acc: 0.9322\n"
          ],
          "name": "stdout"
        }
      ]
    },
    {
      "cell_type": "code",
      "metadata": {
        "id": "A8io4f1nZDNW",
        "colab_type": "code",
        "outputId": "97682c01-86a7-4ae2-f1c2-1d59fba38f12",
        "colab": {
          "base_uri": "https://localhost:8080/",
          "height": 590
        }
      },
      "source": [
        "mm = training_time // 60\n",
        "ss = training_time % 60\n",
        "print('Training {} epochs in {}:{}'.format(epochs, int(mm), round(ss, 1)))\n",
        "\n",
        "# show the loss and accuracy\n",
        "loss = training.history['loss']\n",
        "val_loss = training.history['val_loss']\n",
        "acc = training.history['acc']\n",
        "val_acc = training.history['val_acc']\n",
        "\n",
        "# loss plot\n",
        "tra = plt.plot(loss)\n",
        "val = plt.plot(val_loss, 'r')\n",
        "plt.xlabel('Epochs')\n",
        "plt.ylabel('Loss')\n",
        "plt.title('Loss')\n",
        "plt.legend([\"Training\", \"Validation\"])\n",
        "\n",
        "plt.show()\n",
        "\n",
        "# accuracy plot\n",
        "plt.plot(acc)\n",
        "plt.plot(val_acc, 'r')\n",
        "plt.xlabel('Epochs')\n",
        "plt.ylabel('Loss')\n",
        "plt.title('Accuracy')\n",
        "plt.legend(['Training', 'Validation'], loc=4)\n",
        "plt.show()"
      ],
      "execution_count": 0,
      "outputs": [
        {
          "output_type": "stream",
          "text": [
            "Training 30 epochs in 2:29.6\n"
          ],
          "name": "stdout"
        },
        {
          "output_type": "display_data",
          "data": {
            "image/png": "[encoded data removed]",
            "text/plain": [
              "<Figure size 432x288 with 1 Axes>"
            ]
          },
          "metadata": {
            "tags": []
          }
        },
        {
          "output_type": "display_data",
          "data": {
            "image/png": "[encoded data removed]",
            "text/plain": [
              "<Figure size 432x288 with 1 Axes>"
            ]
          },
          "metadata": {
            "tags": []
          }
        }
      ]
    },
    {
      "cell_type": "markdown",
      "metadata": {
        "id": "8i02h0M6VYeB",
        "colab_type": "text"
      },
      "source": [
        "# Menyimpan Model Deep Learning"
      ]
    },
    {
      "cell_type": "code",
      "metadata": {
        "id": "l0uQGtHVs8cI",
        "colab_type": "code",
        "colab": {}
      },
      "source": [
        "model.save('model-alvis-v2.h5')"
      ],
      "execution_count": 0,
      "outputs": []
    },
    {
      "cell_type": "code",
      "metadata": {
        "id": "G5qGQa8rVWqJ",
        "colab_type": "code",
        "colab": {}
      },
      "source": [
        "from keras.utils import plot_model\n",
        "\n",
        "plot_model(model, 'model-alvisv2.png', show_shapes=True)"
      ],
      "execution_count": 0,
      "outputs": []
    }
  ]
}